{
 "cells": [
  {
   "cell_type": "code",
   "execution_count": 2,
   "id": "fd708ee1",
   "metadata": {},
   "outputs": [],
   "source": [
    "# import libraries\n",
    "\n",
    "from bs4 import BeautifulSoup\n",
    "import requests\n",
    "import smtplib\n",
    "import time\n",
    "import datetime\n",
    "import csv\n",
    "import pandas as pd"
   ]
  },
  {
   "cell_type": "code",
   "execution_count": 3,
   "id": "bc4cafd6",
   "metadata": {},
   "outputs": [
    {
     "name": "stdout",
     "output_type": "stream",
     "text": [
      "\n",
      "                   Veirdo Women T-Shirt\n",
      "                  \n",
      "\n",
      "                     ₹349.00\n",
      "                    \n"
     ]
    }
   ],
   "source": [
    "# connect to the website\n",
    "\n",
    "URL = 'https://www.amazon.in/Veirdo-Oversized-Cotton-Sleeve-T-Shirts/dp/B09Z6TWDQ2/?_encoding=UTF8&pd_rd_w=xJTBJ&content-id=amzn1.sym.1f592895-6b7a-4b03-9d72-1a40ea8fbeca&pf_rd_p=1f592895-6b7a-4b03-9d72-1a40ea8fbeca&pf_rd_r=B30N7G0YXY16JJ1BMHFS&pd_rd_wg=71F0K&pd_rd_r=07d393bf-d37b-4ac3-a0d9-6f5d3ded3296&ref_=pd_gw_ci_mcx_mr_hp_atf_m'\n",
    "\n",
    "headers = {\"User-Agent\": \"Mozilla/5.0 (Windows NT 10.0; Win64; x64) AppleWebKit/537.36 (KHTML, like Gecko) Chrome/108.0.0.0 Safari/537.36\", \"Accept-Encoding\":\"gzip, deflate\", \"Accept\":\"text/html,application/xhtml+xml,application/xml;q=0.9,*/*;q=0.8\", \"DNT\":\"1\",\"Connection\":\"close\", \"Upgrade-Insecure-Requests\":\"1\"}\n",
    "\n",
    "page = requests.get(URL, headers=headers)\n",
    "\n",
    "soup1 = BeautifulSoup(page.content, \"html.parser\")\n",
    "soup2 = BeautifulSoup(soup1.prettify(), \"html.parser\")\n",
    "\n",
    "\n",
    "title = soup2.find(id='productTitle').get_text()\n",
    "\n",
    "price = soup2.find(\"span\", {'class' : 'a-offscreen'}, text = True).get_text()\n",
    "\n",
    "\n",
    "\n",
    "print(title)\n",
    "print(price)\n",
    "\n",
    "\n",
    "\n",
    "\n",
    "\n",
    "\n"
   ]
  },
  {
   "cell_type": "code",
   "execution_count": 4,
   "id": "e5685f77",
   "metadata": {},
   "outputs": [
    {
     "name": "stdout",
     "output_type": "stream",
     "text": [
      "349.00\n",
      "Veirdo Women T-Shirt\n"
     ]
    }
   ],
   "source": [
    "title = title.strip()\n",
    "price  = price.strip()[1:]\n",
    "\n",
    "print(price)\n",
    "print(title)\n"
   ]
  },
  {
   "cell_type": "code",
   "execution_count": 5,
   "id": "e266420f",
   "metadata": {},
   "outputs": [
    {
     "name": "stdout",
     "output_type": "stream",
     "text": [
      "2022-12-11\n"
     ]
    }
   ],
   "source": [
    "today = datetime.date.today()\n",
    "print(today)"
   ]
  },
  {
   "cell_type": "code",
   "execution_count": 6,
   "id": "2864f8a6",
   "metadata": {},
   "outputs": [],
   "source": [
    "header = ['Title', 'Price', 'Date']\n",
    "data = [title, price, today]\n",
    "\n",
    "with open('amazonwebscrapperdataset.csv', 'w', newline='', encoding='UTF8') as f:\n",
    "   writer = csv.writer(f)\n",
    "   writer.writerow(header)\n",
    "   writer.writerow(data)"
   ]
  },
  {
   "cell_type": "code",
   "execution_count": 7,
   "id": "6e014506",
   "metadata": {},
   "outputs": [
    {
     "name": "stdout",
     "output_type": "stream",
     "text": [
      "                  Title  Price        Date\n",
      "0  Veirdo Women T-Shirt  349.0  2022-12-11\n"
     ]
    }
   ],
   "source": [
    "df = pd.read_csv(r'C:\\Users\\MTS\\amazonwebscrapperdataset.csv')\n",
    "print(df)"
   ]
  },
  {
   "cell_type": "code",
   "execution_count": 8,
   "id": "e5a24581",
   "metadata": {},
   "outputs": [],
   "source": [
    "with open('amazonwebscrapperdataset.csv', 'a+', newline='', encoding='UTF8') as f:\n",
    "   writer = csv.writer(f)\n",
    "   writer.writerow(data)"
   ]
  },
  {
   "cell_type": "code",
   "execution_count": 9,
   "id": "7b470c61",
   "metadata": {},
   "outputs": [],
   "source": [
    "# automating\n",
    "\n",
    "def check_price():\n",
    "\n",
    "   URL = 'https://www.amazon.in/Veirdo-Oversized-Cotton-Sleeve-T-Shirts/dp/B09Z6TWDQ2/?_encoding=UTF8&pd_rd_w=xJTBJ&content-id=amzn1.sym.1f592895-6b7a-4b03-9d72-1a40ea8fbeca&pf_rd_p=1f592895-6b7a-4b03-9d72-1a40ea8fbeca&pf_rd_r=B30N7G0YXY16JJ1BMHFS&pd_rd_wg=71F0K&pd_rd_r=07d393bf-d37b-4ac3-a0d9-6f5d3ded3296&ref_=pd_gw_ci_mcx_mr_hp_atf_m'\n",
    "\n",
    "   headers = {\"User-Agent\": \"Mozilla/5.0 (Windows NT 10.0; Win64; x64) AppleWebKit/537.36 (KHTML, like Gecko) Chrome/108.0.0.0 Safari/537.36\", \"Accept-Encoding\":\"gzip, deflate\", \"Accept\":\"text/html,application/xhtml+xml,application/xml;q=0.9,*/*;q=0.8\", \"DNT\":\"1\",\"Connection\":\"close\", \"Upgrade-Insecure-Requests\":\"1\"}\n",
    "\n",
    "   page = requests.get(URL, headers=headers)\n",
    "\n",
    "   soup1 = BeautifulSoup(page.content, \"html.parser\")\n",
    "   soup2 = BeautifulSoup(soup1.prettify(), \"html.parser\")\n",
    "\n",
    "\n",
    "   title = soup2.find(id='productTitle').get_text()\n",
    "\n",
    "   price = soup2.find(\"span\", {'class' : 'a-offscreen'}, text = True).get_text()\n",
    "\n",
    "   title = title.strip()\n",
    "   price  = price.strip()[1:]\n",
    "  \n",
    "   today = datetime.date.today()\n",
    "    \n",
    "   header = ['Title', 'Price', 'Date']\n",
    "   data = [title, price, today]\n",
    "\n",
    "   with open('amazonwebscrapperdataset.csv', 'a+', newline='', encoding='UTF8') as f:\n",
    "     writer = csv.writer(f)\n",
    "     writer.writerow(data)\n",
    "\n",
    "\n"
   ]
  },
  {
   "cell_type": "code",
   "execution_count": null,
   "id": "4923cf9f",
   "metadata": {},
   "outputs": [],
   "source": [
    "while (True):\n",
    "    check_price()\n",
    "    time.sleep(86400)\n",
    "    "
   ]
  },
  {
   "cell_type": "code",
   "execution_count": null,
   "id": "8a3a2ba9",
   "metadata": {},
   "outputs": [],
   "source": [
    "df = pd.read_csv(r'C:\\Users\\MTS\\amazonwebscrapperdataset.csv')\n",
    "print(df)"
   ]
  },
  {
   "cell_type": "code",
   "execution_count": null,
   "id": "f9b2a2fc",
   "metadata": {},
   "outputs": [],
   "source": []
  }
 ],
 "metadata": {
  "kernelspec": {
   "display_name": "Python 3",
   "language": "python",
   "name": "python3"
  },
  "language_info": {
   "codemirror_mode": {
    "name": "ipython",
    "version": 3
   },
   "file_extension": ".py",
   "mimetype": "text/x-python",
   "name": "python",
   "nbconvert_exporter": "python",
   "pygments_lexer": "ipython3",
   "version": "3.8.8"
  }
 },
 "nbformat": 4,
 "nbformat_minor": 5
}
